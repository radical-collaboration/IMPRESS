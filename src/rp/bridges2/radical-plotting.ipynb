{
 "cells": [
  {
   "cell_type": "code",
   "execution_count": 1,
   "id": "0e9180bd-1b46-4b7d-b543-dfbac30189d9",
   "metadata": {},
   "outputs": [
    {
     "name": "stderr",
     "output_type": "stream",
     "text": [
      "/jet/home/goliyad/impress/ve.impress/lib/python3.9/site-packages/requests/__init__.py:86: RequestsDependencyWarning: Unable to find acceptable character detection dependency (chardet or charset_normalizer).\n",
      "  warnings.warn(\n"
     ]
    }
   ],
   "source": [
    "import os\n",
    "\n",
    "import matplotlib              as mpl\n",
    "import matplotlib.font_manager as fm\n",
    "import matplotlib.pyplot       as plt\n",
    "import matplotlib.ticker       as mticker\n",
    "\n",
    "import numpy                   as np\n",
    "\n",
    "import radical.analytics       as ra\n",
    "import radical.pilot           as rp\n",
    "import radical.utils           as ru\n",
    "\n",
    "from radical.analytics.utils import to_latex"
   ]
  },
  {
   "cell_type": "code",
   "execution_count": 2,
   "id": "24c80e1a-0d34-438c-a408-2b9b100ac0e8",
   "metadata": {},
   "outputs": [
    {
     "name": "stdout",
     "output_type": "stream",
     "text": [
      "WARNING: directory with font(s) not found\n"
     ]
    }
   ],
   "source": [
    "!rm -rf ~/.radical/analytics/cache\n",
    "\n",
    "fonts_dir = os.path.join(os.getcwd(), 'fonts')\n",
    "# see: https://github.com/radical-cybertools/tutorials/tree/main/src/devel\n",
    "\n",
    "if os.path.isdir(fonts_dir):\n",
    "    try:\n",
    "        fm.fontManager.addfont(fm.findSystemFonts(fonts_dir)[0])\n",
    "\n",
    "        plt.style.use(ra.get_mplstyle('radical_mpl'))\n",
    "        mpl.rcParams['text.usetex'] = False\n",
    "        mpl.rcParams['font.serif']  = ['Nimbus Roman Becker No9L']\n",
    "        mpl.rcParams['font.family'] = 'serif'\n",
    "    except Exception as e:\n",
    "        print(f'WARNING: font is not set ({e})')\n",
    "else:\n",
    "    print('WARNING: directory with font(s) not found')"
   ]
  },
  {
   "cell_type": "markdown",
   "id": "71e21fa9-0de2-47fb-b9ae-d5a2f3bd3446",
   "metadata": {},
   "source": [
    "# Get session tracing events\n",
    "\n",
    "Enter session ID to collect its events:"
   ]
  },
  {
   "cell_type": "code",
   "execution_count": 6,
   "id": "877f49fa-4977-42c8-b1df-d579639fb08b",
   "metadata": {},
   "outputs": [],
   "source": [
    "sid = 'rp.session.v009.ib.bridges2.psc.edu.goliyad.020244.0004' #'<RCT_SESSION_ID>'"
   ]
  },
  {
   "cell_type": "code",
   "execution_count": 7,
   "id": "5605684e-19a1-4ddf-80db-b31032c03ab0",
   "metadata": {},
   "outputs": [],
   "source": [
    "session = ra.Session(sid, 'radical.pilot')"
   ]
  },
  {
   "cell_type": "code",
   "execution_count": 8,
   "id": "f00ace65-4019-450a-87ef-999bc59aa628",
   "metadata": {},
   "outputs": [],
   "source": [
    "data = {'session': session,\n",
    "        'pilot'  : session.filter(etype='pilot', inplace=False).get()[0],\n",
    "        'tasks'  : session.filter(etype='task',  inplace=False)}\n",
    "\n",
    "data['sid'] = sid\n",
    "data['pid'] = data['pilot'].uid\n",
    "data['smt'] = os.environ.get('RADICAL_SMT') or \\\n",
    "              data['pilot'].cfg['resource_details']['rm_info']['threads_per_core']"
   ]
  },
  {
   "cell_type": "code",
   "execution_count": 9,
   "id": "04756534-71d9-4933-a7fb-cb74b43ad23d",
   "metadata": {},
   "outputs": [],
   "source": [
    "def run_metrics(data, ntasks=None):\n",
    "    ttx = data['tasks'].duration(event=[{ru.EVENT: 'task_run_start'},\n",
    "                                        {ru.EVENT: 'task_run_stop'}])\n",
    "    runtime = data['pilot'].duration(event=[{ru.EVENT: 'bootstrap_0_start'},\n",
    "                                            {ru.EVENT: 'bootstrap_0_stop'}])\n",
    "    print(f'TOTAL RUNTIME: {round(runtime)}s | RCT OVH: {round(runtime - ttx)}s')\n",
    "    \n",
    "    if ntasks and ntasks > 1:\n",
    "        task_idx = ntasks - 1\n",
    "        print(f'# Following rates are based on the first {ntasks} tasks')\n",
    "    else:\n",
    "        task_idx = -1\n",
    "        ntasks = None\n",
    "        print(f'# Following rates are based on all tasks')\n",
    "\n",
    "    # calculate scheduling throughput (for the first N tasks or for all tasks)\n",
    "    ts_schedule_ok = sorted(session.timestamps(event={ru.STATE: 'AGENT_SCHEDULING'}))\n",
    "    total_tasks = ntasks or len(ts_schedule_ok)\n",
    "    print('scheduling rate: ', total_tasks / (ts_schedule_ok[task_idx] - ts_schedule_ok[0]))\n",
    "\n",
    "    # calculate launching rate (for the first N tasks or for all tasks)\n",
    "    ts_agent_executing = sorted(session.timestamps(event=[{ru.EVENT: 'launch_submit'}]))\n",
    "    total_tasks = ntasks or len(ts_agent_executing)\n",
    "    print('launching rate: ', total_tasks / (ts_agent_executing[task_idx] - ts_agent_executing[0]))"
   ]
  },
  {
   "cell_type": "code",
   "execution_count": 10,
   "id": "09fb16b0-b97e-4644-92af-8522ec503d55",
   "metadata": {},
   "outputs": [
    {
     "name": "stdout",
     "output_type": "stream",
     "text": [
      "TOTAL RUNTIME: 47537s | RCT OVH: 17s\n",
      "# Following rates are based on all tasks\n",
      "scheduling rate:  0.002399174240151611\n",
      "launching rate:  0.0023991889019182155\n"
     ]
    }
   ],
   "source": [
    "try:\n",
    "    run_metrics(data, ntasks=None)\n",
    "except Exception as e:\n",
    "    print(e)"
   ]
  },
  {
   "cell_type": "markdown",
   "id": "0ffaea70-5b22-429f-9b16-c8f7a661f800",
   "metadata": {},
   "source": [
    "# Resource Utilization"
   ]
  },
  {
   "cell_type": "code",
   "execution_count": 11,
   "id": "ea2600bf-601b-46f4-8db4-471a2f5c81c1",
   "metadata": {},
   "outputs": [],
   "source": [
    "def plot_utilization(data, resources=None, save=True, with_metrics=False):\n",
    "\n",
    "    DURATIONS = {\n",
    "        'boot'        : [{ru.EVENT: 'bootstrap_0_start'},\n",
    "                         {ru.EVENT: 'bootstrap_0_ok'   }],\n",
    "        'agent_setup' : [{ru.EVENT: 'bootstrap_0_ok'   },\n",
    "                         {ru.STATE: rp.PMGR_ACTIVE     }],\n",
    "        'exec_queue'  : [{ru.STATE: rp.AGENT_SCHEDULING},\n",
    "                         {ru.STATE: rp.AGENT_EXECUTING }],\n",
    "        'exec_prep'   : [{ru.STATE: rp.AGENT_EXECUTING },\n",
    "                         {ru.EVENT: 'task_run_start'   }],\n",
    "        'exec_rp'     : [{ru.EVENT: 'task_run_start'   },\n",
    "                         {ru.EVENT: 'launch_start'     }],\n",
    "        'exec_sh'     : [{ru.EVENT: 'launch_start'     },\n",
    "                         {ru.EVENT: 'launch_submit'    }],\n",
    "        'exec_launch' : [{ru.EVENT: 'launch_submit'    },\n",
    "                         {ru.EVENT: 'exec_start'       }],\n",
    "        'exec_cmd'    : [{ru.EVENT: 'exec_start'       },\n",
    "                         {ru.EVENT: 'exec_stop'        }],\n",
    "        'exec_finish' : [{ru.EVENT: 'exec_stop'        },\n",
    "                         {ru.EVENT: 'launch_collect'   }],\n",
    "        'term_sh'     : [{ru.EVENT: 'launch_collect'   },\n",
    "                         {ru.EVENT: 'launch_stop'      }],\n",
    "        'term_rp'     : [{ru.EVENT: 'launch_stop'      },\n",
    "                         {ru.EVENT: 'task_run_stop'    }],\n",
    "        'unschedule'  : [{ru.EVENT: 'task_run_stop'    },\n",
    "                         {ru.EVENT: 'unschedule_stop'  }]\n",
    "    }\n",
    "\n",
    "    METRICS = [\n",
    "        ['Bootstrap',     ['boot', 'agent_setup'],        '#c6dbef'],\n",
    "        #['Warmup',        ['warm'],                       '#f0f0f0'],\n",
    "        ['Schedule',      ['exec_queue', 'unschedule'],   '#c994c7'],\n",
    "        ['Prep',          ['exec_prep', 'exec_rp', 'exec_sh',\n",
    "                           'term_sh', 'term_rp'],         '#fdbb84'],\n",
    "        #['Launch method', ['exec_launch', 'exec_finish'], '#ff9999'],\n",
    "        ['Launch',        ['exec_launch'],                '#ff9999'],\n",
    "        ['Running',       ['exec_cmd'],                   '#88bb88'],\n",
    "        #['Cooldown',      ['drain'],                      '#addd8e']\n",
    "    ]\n",
    "    \n",
    "    correction = 0.5\n",
    "    sid = data['sid']\n",
    "    pid = data['pid']\n",
    "    \n",
    "    rtypes = ru.as_list(resources) or ['cpu', 'gpu']\n",
    "    rtype_info = {'cpu': {'label': 'Number of CPU cores',\n",
    "                          'formatter': lambda z, pos: int(z / data['smt'])},\n",
    "                  'gpu': {'label': 'Number of GPUs',\n",
    "                          'formatter': None}}\n",
    "    \n",
    "    # fig, axarr = plt.subplots(1, len(rtypes), figsize=(\n",
    "    #     ra.get_plotsize(256 * len(rtypes), subplots=(1, len(rtypes)))))\n",
    "    fig, axarr = plt.subplots(len(rtypes), 1, figsize=(7, 2 * len(rtypes)))\n",
    "    \n",
    "    exp = ra.Experiment([sid], stype='radical.pilot')\n",
    "\n",
    "    # get the start time of each pilot\n",
    "    p_zeros = ra.get_pilots_zeros(exp)    \n",
    "\n",
    "    legend = None\n",
    "    for idx, rtype in enumerate(rtypes):\n",
    "        \n",
    "        if len(rtypes) > 1:\n",
    "            ax = axarr[idx]\n",
    "        else:\n",
    "            ax = axarr\n",
    "\n",
    "        consumed = rp.utils.get_consumed_resources(\n",
    "            exp._sessions[0], rtype, {'consume': DURATIONS})\n",
    "\n",
    "        # generate the subplot with labels\n",
    "        legend, patches, x, y = ra.get_plot_utilization(\n",
    "            METRICS, {sid: consumed}, p_zeros[sid][pid], sid)\n",
    "\n",
    "        # place all the patches, one for each metric, on the axes\n",
    "        for patch in patches:\n",
    "            patch.set_y(patch.get_y() + correction)\n",
    "            ax.add_patch(patch)\n",
    "\n",
    "        ax.set_xlim([x['min'], int(x['max'])])\n",
    "        ax.set_ylim([y['min'] + correction, int(y['max'] + correction)])\n",
    "\n",
    "        ax.xaxis.set_major_locator(mticker.MaxNLocator(4))\n",
    "        ax.yaxis.set_major_locator(mticker.MaxNLocator(4))\n",
    "\n",
    "        if rtype_info[rtype]['formatter'] is not None:\n",
    "            ax.yaxis.set_major_formatter(mticker.FuncFormatter(\n",
    "                rtype_info[rtype]['formatter']))\n",
    "\n",
    "        ax.set_ylabel(to_latex(rtype_info[rtype]['label']), fontsize=11)\n",
    "        ax.set_title(' ')  # placeholder\n",
    "\n",
    "    ax.set_xlabel(to_latex('Time (s)'), fontsize=11)\n",
    "\n",
    "    fig.legend(legend, [m[0] for m in METRICS],\n",
    "               loc='upper center',\n",
    "               #bbox_to_anchor=(0.5, 0.95),\n",
    "               ncol=len(METRICS)) \n",
    "    \n",
    "    plt.tight_layout()\n",
    "    plt.show()\n",
    "    \n",
    "    plot_name = '%s.ru.png' % '.'.join(sid.rsplit('.', 2)[1:])\n",
    "    fig.savefig(plot_name)\n",
    "    \n",
    "    if with_metrics:\n",
    "        # print resource utilization metrics\n",
    "        for rtype in rtypes:\n",
    "            _, _, stats_abs, stats_rel, info = data['session'].utilization(\n",
    "                METRICS, rtype, {'consume': DURATIONS})\n",
    "            print('%s RU: ' % rtype.upper(), info)"
   ]
  },
  {
   "cell_type": "code",
   "execution_count": 12,
   "id": "e8ee93dd-1b42-4558-8837-a5c39012f6dd",
   "metadata": {},
   "outputs": [
    {
     "name": "stdout",
     "output_type": "stream",
     "text": [
      "no cache for rp.session.v009.ib.bridges2.psc.edu.goliyad.020244.0004\n"
     ]
    },
    {
     "data": {
      "image/png": "[encoded data removed]",
      "text/plain": [
       "<Figure size 700x400 with 2 Axes>"
      ]
     },
     "metadata": {},
     "output_type": "display_data"
    }
   ],
   "source": [
    "plot_utilization(data, resources=['cpu', 'gpu'], save=True, with_metrics=False)"
   ]
  },
  {
   "cell_type": "markdown",
   "id": "17beb231-7209-4a38-b98b-788cd8c832a4",
   "metadata": {},
   "source": [
    "# Resource Utilization - STACKED"
   ]
  },
  {
   "cell_type": "code",
   "execution_count": 13,
   "id": "d981c04a-3a44-42b4-b50e-472369783f3f",
   "metadata": {},
   "outputs": [],
   "source": [
    "def plot_utilization_stack(data, resources=None, save=True):\n",
    "\n",
    "    tmap = {\n",
    "        'pilot':  [\n",
    "            [{1: 'bootstrap_0_start'}     , 'system'     , 'Bootstrap'  ],\n",
    "            [{5: 'PMGR_ACTIVE'}           , 'Bootstrap'  , 'Idle'       ],\n",
    "            [{1: 'cmd', 6: 'cancel_pilot'}, 'Idle'       , 'Term'       ],\n",
    "            [{1: 'bootstrap_0_stop'}      , 'Term'       , 'system'     ],\n",
    "            [{1: 'sub_agent_start'}       , 'Idle'       , 'agent'      ],\n",
    "            [{1: 'sub_agent_stop'}        , 'agent'      , 'Term'       ]\n",
    "        ],\n",
    "        'task': [\n",
    "            [{1: 'schedule_ok'}           , 'Idle'       , 'Exec setup' ],\n",
    "            [{1: 'exec_start'}            , 'Exec setup' , 'Running'    ],\n",
    "            [{1: 'exec_stop'}             , 'Running'    , 'Exec setup' ],\n",
    "            [{1: 'unschedule_stop'}       , 'Exec setup' , 'Idle'       ]\n",
    "        ],\n",
    "    }\n",
    "    metrics = [ \n",
    "        # metric,      line color, alpha, fill color, alpha\n",
    "        ['Bootstrap',  ['#c6dbef', 0.0, '#c6dbef', 1]],\n",
    "        ['Exec setup', ['#fdbb84', 0.0, '#fdbb84', 1]],\n",
    "        ['Running',    ['#88bb88', 0.0, '#88bb88', 1]],\n",
    "        ['Idle',       ['#f0f0f0', 0.0, '#f0f0f0', 1]]\n",
    "    ]\n",
    "\n",
    "    to_stack = [m[0] for m in metrics]\n",
    "    to_plot = {m[0]: m[1] for m in metrics}\n",
    "    \n",
    "    sid = data['sid']\n",
    "    pid = data['pid']\n",
    "    \n",
    "    rtypes = ru.as_list(resources) or ['cpu', 'gpu']\n",
    "    fig, axarr = plt.subplots(len(rtypes), 1, figsize=(7, 2 * len(rtypes)))\n",
    "\n",
    "    patches = []\n",
    "    legend = []\n",
    "\n",
    "    p_resrc, series, x = ra.get_pilot_series(\n",
    "        data['session'], data['pilot'], tmap, rtypes, True)\n",
    "\n",
    "    for idx, rtype in enumerate(rtypes):\n",
    "        \n",
    "        if len(rtypes) > 1:\n",
    "            ax = axarr[idx]\n",
    "        else:\n",
    "            ax = axarr\n",
    "\n",
    "        # stack timeseries for each metrics into areas\n",
    "        areas = ra.stack_transitions(series, rtype, to_stack)\n",
    "\n",
    "        # plot individual metrics\n",
    "        prev_m = None\n",
    "        for m in areas:\n",
    "\n",
    "            if m not in to_plot:\n",
    "                if m != 'time':\n",
    "                    print('skip', m)\n",
    "                continue\n",
    "\n",
    "            lcol = to_plot[m][0]\n",
    "            lalpha = to_plot[m][1]\n",
    "            pcol = to_plot[m][2]\n",
    "            palpha = to_plot[m][3]\n",
    "\n",
    "            # plot the (stacked) areas\n",
    "            ax.step(np.array(areas['time']), np.array(areas[m]),\n",
    "                    where='post', label=m,\n",
    "                    color=lcol, alpha=lalpha, linewidth=1.0)\n",
    "\n",
    "            # fill first metric toward 0, all others towards previous line\n",
    "            if not prev_m:\n",
    "                patch = ax.fill_between(\n",
    "                    areas['time'], areas[m],\n",
    "                    step='post', label=m,\n",
    "                    linewidth=0.0,\n",
    "                    color=pcol, alpha=palpha)\n",
    "\n",
    "            else:\n",
    "                patch = ax.fill_between(\n",
    "                    areas['time'], areas[m],\n",
    "                    areas[prev_m],\n",
    "                    step='post', label=m,\n",
    "                    linewidth=0.0,\n",
    "                    color=pcol, alpha=palpha)\n",
    "\n",
    "            # remember patches for legend\n",
    "            if len(legend) < len(metrics):\n",
    "                legend.append(m)\n",
    "                patches.append(patch)\n",
    "\n",
    "            # remember this line to fill against\n",
    "            prev_m = m\n",
    "\n",
    "        ax.set_xlim([x['min'], x['max']])\n",
    "        ax.set_ylim([0, 110])\n",
    "\n",
    "        ax.yaxis.set_major_locator(\n",
    "            mticker.MaxNLocator(3, steps=[5, 10]))\n",
    "\n",
    "        ax.set_ylabel('%s (%%)' % rtype.upper(), fontsize=12)\n",
    "\n",
    "        for ax in fig.get_axes():\n",
    "            ax.label_outer()\n",
    "\n",
    "    ax.set_xlabel(to_latex('Time (s)'), fontsize=11)\n",
    "\n",
    "    fig.legend(patches, legend, \n",
    "               loc='upper center',\n",
    "               #bbox_to_anchor=(0.5, 1.01),\n",
    "               ncol=len(metrics),\n",
    "               fancybox=True, shadow=True, fontsize=11)\n",
    "\n",
    "    plt.tight_layout()\n",
    "    plt.show()\n",
    "\n",
    "    if save:\n",
    "        plot_name = '%s.ru.stack.png' % '.'.join(sid.rsplit('.', 2)[1:])\n",
    "        fig.savefig(os.path.join('.', plot_name))"
   ]
  },
  {
   "cell_type": "code",
   "execution_count": 14,
   "id": "45c3a658-05d4-4ade-84b1-9aa93c002624",
   "metadata": {},
   "outputs": [
    {
     "data": {
      "image/png": "[encoded data removed]",
      "text/plain": [
       "<Figure size 700x400 with 2 Axes>"
      ]
     },
     "metadata": {},
     "output_type": "display_data"
    }
   ],
   "source": [
    "plot_utilization_stack(data, resources=['cpu', 'gpu'], save=True)"
   ]
  },
  {
   "cell_type": "markdown",
   "id": "ecba91c0-e5bb-4377-85ad-0275459149ff",
   "metadata": {},
   "source": [
    "# Concurrency\n",
    "Number of tasks within a certain phase during a runtime period."
   ]
  },
  {
   "cell_type": "code",
   "execution_count": 15,
   "id": "c01df4db-77c2-494a-874d-8eb5d66060ad",
   "metadata": {},
   "outputs": [],
   "source": [
    "def plot_concurrency(data, save=True):\n",
    "\n",
    "    events = {'Tasks scheduling': [{ru.STATE: 'AGENT_SCHEDULING'},\n",
    "                                   {ru.EVENT: 'schedule_ok'}],\n",
    "              'Tasks running'   : [{ru.EVENT: 'exec_start'},\n",
    "                                   {ru.EVENT: 'exec_stop'}]}\n",
    "\n",
    "    # events = {'Tasks placed'   : [{ru.EVENT: 'launch_submit'},\n",
    "    #                               {ru.EVENT: 'launch_collect'}]}\n",
    "    # events = {'Job steps launched': [{ru.EVENT: 'launch_submit'},\n",
    "    #                                  {ru.EVENT: 'exec_start'}]}\n",
    "\n",
    "    fig, ax = plt.subplots(1, 1, figsize=(7, 2))\n",
    "\n",
    "    pilot_starttime = data['pilot'].\\\n",
    "        timestamps(event={ru.EVENT: 'bootstrap_0_start'})[0]\n",
    "\n",
    "    legend = []\n",
    "    for e_name in events:\n",
    "        time_series = data['session'].concurrency(event=events[e_name], sampling=0.1)\n",
    "        ax.plot([e[0] - pilot_starttime for e in time_series],\n",
    "                [e[1] for e in time_series],\n",
    "                label=ra.to_latex(e_name), lw=1)\n",
    "        legend.append(e_name)\n",
    "\n",
    "    ax.set_ylabel(to_latex('Number of tasks'), fontsize=11)\n",
    "    ax.set_xlabel(to_latex('Time (s)'), fontsize=11)\n",
    "        \n",
    "    fig.legend(legend,\n",
    "               loc='upper center',\n",
    "               bbox_to_anchor=(0.75, 1.05),\n",
    "               ncol=len(legend), \n",
    "               fontsize=11)\n",
    "\n",
    "    plt.tight_layout()\n",
    "    plt.show()\n",
    "\n",
    "    if save:\n",
    "        plot_name = '%s.concurrency.png' % '.'.join(data['sid'].rsplit('.', 2)[1:])\n",
    "        fig.savefig(os.path.join('.', plot_name))"
   ]
  },
  {
   "cell_type": "code",
   "execution_count": 16,
   "id": "80c9c556-162b-4809-9ee9-2a5edc0001e8",
   "metadata": {},
   "outputs": [
    {
     "data": {
      "image/png": "[encoded data removed]",
      "text/plain": [
       "<Figure size 700x200 with 1 Axes>"
      ]
     },
     "metadata": {},
     "output_type": "display_data"
    }
   ],
   "source": [
    "plot_concurrency(data, save=True)"
   ]
  },
  {
   "cell_type": "code",
   "execution_count": null,
   "id": "c3ff23d8-96d3-4e18-a0e9-84128129b923",
   "metadata": {},
   "outputs": [],
   "source": []
  },
  {
   "cell_type": "code",
   "execution_count": null,
   "id": "044a379f-de77-445e-b7a7-6537c1abc3f6",
   "metadata": {},
   "outputs": [],
   "source": []
  }
 ],
 "metadata": {
  "kernelspec": {
   "display_name": "/jet/home/goliyad/impress/ve.impress",
   "language": "python",
   "name": "jupyter_impress"
  },
  "language_info": {
   "codemirror_mode": {
    "name": "ipython",
    "version": 3
   },
   "file_extension": ".py",
   "mimetype": "text/x-python",
   "name": "python",
   "nbconvert_exporter": "python",
   "pygments_lexer": "ipython3",
   "version": "3.9.21"
  }
 },
 "nbformat": 4,
 "nbformat_minor": 5
}
